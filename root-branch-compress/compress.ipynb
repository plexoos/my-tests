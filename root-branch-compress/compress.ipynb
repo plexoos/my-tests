{
 "cells": [
  {
   "cell_type": "code",
   "execution_count": null,
   "metadata": {
    "hideCode": false,
    "hidePrompt": false
   },
   "outputs": [],
   "source": [
    "%%html\n",
    "\n",
    "<style>\n",
    "\n",
    ".MathJax { font-size: 1.1em; }\n",
    ".tableplain { vertical-align: top; }\n",
    "\n",
    ".red { color: red; }\n",
    ".green { color: green; }\n",
    ".blue { color: blue; }\n",
    ".black { color: black; }\n",
    "\n",
    "dl { display: block; margin: 1em 0 1em; }\n",
    "dt { display: block; margin-left: 20px; }\n",
    "dd { display: block; margin-left: 40px; }\n",
    "\n",
    "</style>\n",
    "\n",
    "<span style='font-size: 300%; font-weight: bold;'>\n",
    "<a style=\"position: fixed; bottom:5%; right:5%;\" href=\"#top\">&#8679;</a>\n",
    "</span>"
   ]
  },
  {
   "cell_type": "markdown",
   "metadata": {
    "hideCode": false,
    "hidePrompt": false
   },
   "source": [
    "# Testing precision and compression of Double32_t and Float16_t\n",
    "\n",
    "ROOT provides the Double32_t and Float16_t types to control precision of\n",
    "real numbers when saved on disk. There is an ongoing discussion about using the\n",
    "ROOT's `Float16_t` type in place of `Short_t` for data members in `picoDst`.\n",
    "`Float16_t` can be used to pack real numbers in a few different ways\n",
    "[TBufferFile::WriteFloat16()](https://root.cern.ch/doc/master/classTBufferFile.html#a61098f97baa261b6a501fbf5c09aba62)\n",
    "\n",
    "A couple of statements which we would like to verify here have been made during the\n",
    "discussion:\n",
    "\n",
    " - `Float16_t` provides a better precision than `Short_t` when limits are specified\n",
    " - `Float16_t` provides better compression than `Short_t`\n",
    "\n",
    "In the [Summary and Conclusions](#Summary-and-Conclusions) we show that our findings\n",
    "based on this study contradict the above statements.\n",
    "\n",
    "We start with the code found in ROOT tutorials that compares different packing modes\n",
    "of `Double32_t` [double32.C](https://root.cern.ch/doc/master/double32_8C.html).\n",
    "Both `Double32_t` and `Float16_t` implement the same idea of controlled packing of\n",
    "the standard representation of single and double precision real numbers into smaller\n",
    "size formats.\n",
    "\n",
    "The original code was modified by adding various packing modes for `Float16_t`, `Short_t`,\n",
    "`UShort_t`, and `UInt_t`. Here is the list of defined variables going to corresponging\n",
    "branches in the output TTree:\n",
    "\n",
    "\n",
    "```c++\n",
    "struct DemoDouble32\n",
    "{\n",
    "   Double_t    fD64;     //reference member with full double precision\n",
    "   Double32_t  fF32;     //saved as a 32 bit Float_t\n",
    "\n",
    "   Double32_t  fI32;     //[-100,100]    saved as a 32 bit unsigned int\n",
    "   Double32_t  fI30;     //[-100,100,30] saved as a 30 bit unsigned int\n",
    "   Double32_t  fI28;     //[-100,100,28] saved as a 28 bit unsigned int\n",
    "   Double32_t  fI26;     //[-100,100,26] saved as a 26 bit unsigned int\n",
    "   Double32_t  fI24;     //[-100,100,24] saved as a 24 bit unsigned int\n",
    "   Double32_t  fI22;     //[-100,100,22] saved as a 22 bit unsigned int\n",
    "   Double32_t  fI20;     //[-100,100,20] saved as a 20 bit unsigned int\n",
    "   Double32_t  fI18;     //[-100,100,18] saved as a 18 bit unsigned int\n",
    "   Double32_t  fI16;     //[-100,100,16] saved as a 16 bit unsigned int\n",
    "   Double32_t  fI14;     //[-100,100,14] saved as a 14 bit unsigned int\n",
    "   Double32_t  fI12;     //[-100,100,12] saved as a 12 bit unsigned int\n",
    "   Double32_t  fI10;     //[-100,100,10] saved as a 10 bit unsigned int\n",
    "   Double32_t  fI8;      //[-100,100, 8] saved as a  8 bit unsigned int\n",
    "   Double32_t  fI6;      //[-100,100, 6] saved as a  6 bit unsigned int\n",
    "   Double32_t  fI4;      //[-100,100, 4] saved as a  4 bit unsigned int\n",
    "   Double32_t  fI2;      //[-100,100, 2] saved as a  2 bit unsigned int\n",
    "\n",
    "   Double32_t  fR16;     //[0,  0, 16] saved as a 32 bit float with a 16 bits mantissa\n",
    "   Double32_t  fR14;     //[0,  0, 14] saved as a 32 bit float with a 14 bits mantissa\n",
    "   Double32_t  fR12;     //[0,  0, 12] saved as a 32 bit float with a 12 bits mantissa\n",
    "   Double32_t  fR10;     //[0,  0, 10] saved as a 32 bit float with a 10 bits mantissa\n",
    "   Double32_t  fR8;      //[0,  0,  8] saved as a 32 bit float with a  8 bits mantissa\n",
    "   Double32_t  fR6;      //[0,  0,  6] saved as a 32 bit float with a  6 bits mantissa\n",
    "   Double32_t  fR4;      //[0,  0,  4] saved as a 32 bit float with a  4 bits mantissa\n",
    "   Double32_t  fR2;      //[0,  0,  2] saved as a 32 bit float with a  2 bits mantissa\n",
    "\n",
    "   Float16_t   fI16F;    //[-100, 100, 16]\n",
    "   Float16_t   fI14F;    //[-100, 100, 14]\n",
    "   Float16_t   fI12F;    //[-100, 100, 12]\n",
    "   Float16_t   fI10F;    //[-100, 100, 10]\n",
    "   Float16_t   fI8F;     //[-100, 100,  8]\n",
    "   Float16_t   fI6F;     //[-100, 100,  6]\n",
    "   Float16_t   fI4F;     //[-100, 100,  4]\n",
    "   Float16_t   fI2F;     //[-100, 100,  2]\n",
    "\n",
    "   Float16_t   fR16F;    //[0, 0, 16]\n",
    "   Float16_t   fR14F;    //[0, 0, 14]\n",
    "   Float16_t   fR12F;    //[0, 0, 12]\n",
    "   Float16_t   fR10F;    //[0, 0, 10]\n",
    "   Float16_t   fR8F;     //[0, 0,  8]\n",
    "   Float16_t   fR6F;     //[0, 0,  6]\n",
    "   Float16_t   fR4F;     //[0, 0,  4]\n",
    "   Float16_t   fR2F;     //[0, 0,  2]\n",
    "\n",
    "   Short_t     fSh;\n",
    "   UShort_t    fUSh;\n",
    "   UInt_t      fUI;\n",
    "}\n",
    "```\n",
    "\n",
    "The modified code (double32.C) is used for all tests performed in this study, and can be\n",
    "found in this repository https://github.com/plexoos/my-tests/tree/master/root-branch-compress.\n",
    "\n",
    "Several distributions are considered for this test:\n",
    "\n",
    " - Uniform [-100, 100]\n",
    " - Uniform with 5% overflow [-105, 105]\n",
    " - Normal distributions with sigma = 10, 15, 20, 25, 30, 35, 40"
   ]
  },
  {
   "cell_type": "code",
   "execution_count": null,
   "metadata": {
    "hideCode": false,
    "hidePrompt": false
   },
   "outputs": [],
   "source": [
    "import ROOT\n",
    "\n",
    "ROOT.enableJSVis()\n",
    "ROOT.gStyle.SetPadRightMargin(0.30)\n",
    "ROOT.gStyle.SetOptStat(\"emroui\")\n",
    "ROOT.gStyle.SetStatW(0.28)\n",
    "ROOT.gStyle.SetStatH(0.50)\n",
    "ROOT.gStyle.SetStatX(1)\n",
    "ROOT.gStyle.SetStatY(1)\n",
    "ROOT.gStyle.SetLabelSize(0.08, \"XYZ\")\n",
    "ROOT.gStyle.SetTitleFontSize(0.10)"
   ]
  },
  {
   "cell_type": "markdown",
   "metadata": {
    "hideCode": false,
    "hidePrompt": false
   },
   "source": [
    "# Uniform distribution\n",
    "\n",
    "Let's compare the types for a uniformly distributed values in the range [-100, 100]\n",
    "\n",
    "The first row shows the original unpacked values"
   ]
  },
  {
   "cell_type": "code",
   "execution_count": null,
   "metadata": {
    "hideCode": false,
    "hidePrompt": false
   },
   "outputs": [],
   "source": [
    "test_file = ROOT.TFile(\"DemoDouble32_flat_nOF.root\")\n",
    "test_tree = test_file.Get(\"T\")\n",
    "\n",
    "canvas = ROOT.TCanvas(\"canvas_multi_1\", \"canvas\", 1000, 1500)\n",
    "canvas.Divide(2, 9)\n",
    "\n",
    "branch_names = [\"fD64\", \"fF32\",\n",
    "                \"fI16\", \"fR16\",\n",
    "                \"fI14\", \"fR14\",\n",
    "                \"fI12\", \"fR12\",\n",
    "                \"fI10\", \"fR10\",\n",
    "                \"fI8\", \"fR8\",\n",
    "                \"fI6\", \"fR6\",\n",
    "                \"fI4\", \"fR4\",\n",
    "                \"fI2\", \"fR2\"]\n",
    "\n",
    "i_pad = 1\n",
    "\n",
    "for branch_name in branch_names:\n",
    "    canvas.cd(i_pad)\n",
    "    test_tree.Draw(branch_name)\n",
    "    i_pad += 1\n",
    "\n",
    "canvas.Draw()"
   ]
  },
  {
   "cell_type": "markdown",
   "metadata": {
    "hideCode": false,
    "hidePrompt": false
   },
   "source": [
    "## Comparison of precisions offered by different packing modes"
   ]
  },
  {
   "cell_type": "code",
   "execution_count": null,
   "metadata": {
    "hideCode": false,
    "hidePrompt": false
   },
   "outputs": [],
   "source": [
    "saved_canvas = test_file.Get(\"c1\")\n",
    "saved_canvas.Draw()"
   ]
  },
  {
   "cell_type": "markdown",
   "metadata": {
    "hideCode": false,
    "hidePrompt": false
   },
   "source": [
    "There are three points for each type with the following meaning\n",
    "\n",
    "<dl>\n",
    "    \n",
    "<dt class=\"black\">black</dt>\n",
    "<dd>\n",
    "Represent the precision of the packed value $x_t$ relative to the original value $x$\n",
    "after it was written and read back\n",
    "\n",
    "$$ -\\log_{10} \\Big( \\frac{x - x_t}{x} \\Big) $$\n",
    "\n",
    "For example, the relative precision of 2 means that most of the time $x_t$ will be within 1%\n",
    "of the original value $x$\n",
    "    \n",
    "</dd>\n",
    " \n",
    "<dt class=\"red\">red</dt> \n",
    "<dd>\n",
    "Similar to the black points but defined as\n",
    "    \n",
    "$$ -\\log_{10} \\Big( \\frac{x - x_t}{xmax - xmin} \\Big) $$\n",
    "\n",
    "This quantity significantly degrades when the specified range is not optimal, e.g. when the\n",
    "variable does not fit within the range causing overflows and underflows\n",
    "</dd>\n",
    "\n",
    "<dt class=\"blue\">blue</dt> \n",
    "<dd>\n",
    "The compression factor is self explanatory, the higher the better\n",
    "</dd>\n",
    "\n",
    "</dl>"
   ]
  },
  {
   "cell_type": "markdown",
   "metadata": {
    "hideCode": false,
    "hidePrompt": false
   },
   "source": [
    "# Normal distribution\n",
    "\n",
    "Now let's look at a normally distributed variable with sigma = 20\n",
    "\n",
    "The first row shows the original unpacked values"
   ]
  },
  {
   "cell_type": "code",
   "execution_count": null,
   "metadata": {
    "hideCode": false,
    "hidePrompt": false
   },
   "outputs": [],
   "source": [
    "test_file = ROOT.TFile(\"DemoDouble32_gauss_s20.root\")\n",
    "test_tree = test_file.Get(\"T\")\n",
    "\n",
    "canvas = ROOT.TCanvas(\"canvas_multi_2\", \"canvas\", 1000, 1600)\n",
    "canvas.Divide(2, 10)\n",
    "\n",
    "branch_names = [\"fD64\", \"fF32\",\n",
    "                \"fI16\", \"fR16\",\n",
    "                \"fI14\", \"fR14\",\n",
    "                \"fI12\", \"fR12\",\n",
    "                \"fI10\", \"fR10\",\n",
    "                 \"fI8\",  \"fR8\",\n",
    "                 \"fI6\",  \"fR6\",\n",
    "                 \"fI4\",  \"fR4\",\n",
    "                 \"fI2\",  \"fR2\",\n",
    "                \"fUSh\", \"fUI\"]\n",
    "\n",
    "i_pad = 1\n",
    "\n",
    "for branch_name in branch_names:\n",
    "    canvas.cd(i_pad)\n",
    "    test_tree.Draw(branch_name)\n",
    "    i_pad += 1\n",
    "\n",
    "canvas.Draw()"
   ]
  },
  {
   "cell_type": "markdown",
   "metadata": {
    "hideCode": false,
    "hidePrompt": false
   },
   "source": [
    "## Comparison of precisions offered by different packing modes"
   ]
  },
  {
   "cell_type": "code",
   "execution_count": null,
   "metadata": {
    "hideCode": false,
    "hidePrompt": false
   },
   "outputs": [],
   "source": [
    "saved_canvas = test_file.Get(\"c1\")\n",
    "saved_canvas.Draw()"
   ]
  },
  {
   "cell_type": "code",
   "execution_count": null,
   "metadata": {
    "hideCode": false,
    "hidePrompt": false
   },
   "outputs": [],
   "source": [
    "test_file = ROOT.TFile(\"DemoDouble32_gauss_s10.root\")\n",
    "test_tree = test_file.Get(\"T\")\n",
    "\n",
    "saved_canvas = test_file.Get(\"c1\")\n",
    "saved_canvas.Draw()"
   ]
  },
  {
   "cell_type": "code",
   "execution_count": null,
   "metadata": {
    "hideCode": false,
    "hidePrompt": false
   },
   "outputs": [],
   "source": [
    "test_file = ROOT.TFile(\"DemoDouble32_gauss_s15.root\")\n",
    "test_tree = test_file.Get(\"T\")\n",
    "\n",
    "saved_canvas = test_file.Get(\"c1\")\n",
    "saved_canvas.Draw()"
   ]
  },
  {
   "cell_type": "code",
   "execution_count": null,
   "metadata": {
    "hideCode": false,
    "hidePrompt": false
   },
   "outputs": [],
   "source": [
    "test_file = ROOT.TFile(\"DemoDouble32_gauss_s20.root\")\n",
    "test_tree = test_file.Get(\"T\")\n",
    "\n",
    "saved_canvas = test_file.Get(\"c1\")\n",
    "saved_canvas.Draw()"
   ]
  },
  {
   "cell_type": "markdown",
   "metadata": {
    "hideCode": false,
    "hidePrompt": false
   },
   "source": [
    "Note that with the width greater than 25 the values do not completely fit\n",
    "into the [-100. 100] range"
   ]
  },
  {
   "cell_type": "code",
   "execution_count": null,
   "metadata": {
    "hideCode": false,
    "hidePrompt": false
   },
   "outputs": [],
   "source": [
    "test_file = ROOT.TFile(\"DemoDouble32_gauss_s25.root\")\n",
    "test_tree = test_file.Get(\"T\")\n",
    "\n",
    "saved_canvas = test_file.Get(\"c1\")\n",
    "saved_canvas.Draw()"
   ]
  },
  {
   "cell_type": "code",
   "execution_count": null,
   "metadata": {
    "hideCode": false,
    "hidePrompt": false
   },
   "outputs": [],
   "source": [
    "test_file = ROOT.TFile(\"DemoDouble32_gauss_s30.root\")\n",
    "test_tree = test_file.Get(\"T\")\n",
    "\n",
    "saved_canvas = test_file.Get(\"c1\")\n",
    "saved_canvas.Draw()"
   ]
  },
  {
   "cell_type": "code",
   "execution_count": null,
   "metadata": {
    "hideCode": false,
    "hidePrompt": false
   },
   "outputs": [],
   "source": [
    "test_file = ROOT.TFile(\"DemoDouble32_gauss_s35.root\")\n",
    "test_tree = test_file.Get(\"T\")\n",
    "\n",
    "saved_canvas = test_file.Get(\"c1\")\n",
    "saved_canvas.Draw()"
   ]
  },
  {
   "cell_type": "code",
   "execution_count": null,
   "metadata": {
    "hideCode": false,
    "hidePrompt": false
   },
   "outputs": [],
   "source": [
    "test_file = ROOT.TFile(\"DemoDouble32_gauss_s40.root\")\n",
    "test_tree = test_file.Get(\"T\")\n",
    "\n",
    "saved_canvas = test_file.Get(\"c1\")\n",
    "saved_canvas.Draw()"
   ]
  },
  {
   "cell_type": "code",
   "execution_count": null,
   "metadata": {
    "hideCode": false,
    "hidePrompt": false
   },
   "outputs": [],
   "source": [
    "canvas = ROOT.TCanvas(\"canvas_multi_3\", \"canvas\", 1000, 1600)\n",
    "canvas.Divide(2, 10)\n",
    "\n",
    "branch_names = [\"fD64\", \"fF32\",\n",
    "                \"fI16\", \"fR16\",\n",
    "                \"fI14\", \"fR14\",\n",
    "                \"fI12\", \"fR12\",\n",
    "                \"fI10\", \"fR10\",\n",
    "                 \"fI8\",  \"fR8\",\n",
    "                 \"fI6\",  \"fR6\",\n",
    "                 \"fI4\",  \"fR4\",\n",
    "                 \"fI2\",  \"fR2\",\n",
    "                \"fUSh\",  \"fUI\"]\n",
    "\n",
    "i_pad = 1\n",
    "\n",
    "for branch_name in branch_names:\n",
    "    canvas.cd(i_pad)\n",
    "    test_tree.Draw(branch_name)\n",
    "    i_pad += 1\n",
    "\n",
    "canvas.Draw()"
   ]
  },
  {
   "cell_type": "markdown",
   "metadata": {},
   "source": [
    "## Relative error distributions\n",
    "\n",
    "Here we take a more detailed look at the gaussian distribution packed as a floating\n",
    "point number with truncated mantissa and as a 32-bit integer. We plot the\n",
    "packed/unpacked variable, the relative error, and the relative errorr with respect\n",
    "to the range.\n",
    "\n",
    "The distributions of relative precisions very well agree with the expected machine\n",
    "accuracy for the requested number of bits in the significand (//[0, 0, nbits]).\n",
    "\n",
    "$$ \\Big| \\frac{x - x_t}{x} \\Big| \\le 2^{-(\\text{nbits}+1)}$$\n",
    "\n",
    "Note\n",
    "that the actual number of bits is nbits + 1 because there is sign bit. The case\n",
    "//[0, 0, 16] seems to be special in that regard.\n",
    "\n",
    "\n",
    "### Packed as floating point"
   ]
  },
  {
   "cell_type": "code",
   "execution_count": null,
   "metadata": {
    "hideCode": false,
    "hidePrompt": false,
    "scrolled": false
   },
   "outputs": [],
   "source": [
    "test_file = ROOT.TFile(\"DemoDouble32_gauss_s20.root\")\n",
    "test_tree = test_file.Get(\"T\")\n",
    "\n",
    "canvas = ROOT.TCanvas(\"canvas_multi_detailed\", \"canvas\", 1500, 2000)\n",
    "canvas.Divide(3, 9)\n",
    "\n",
    "branch_names = [\n",
    "    \"fD64\", \"fF32\", \"\",\n",
    "    \"fR16F\", \"(fD64 - fR16F)/fD64\", \"(fD64 - fR16F)/(fMax - fMin)\",\n",
    "    \"fR14F\", \"(fD64 - fR14F)/fD64\", \"(fD64 - fR14F)/(fMax - fMin)\",\n",
    "    \"fR12F\", \"(fD64 - fR12F)/fD64\", \"(fD64 - fR12F)/(fMax - fMin)\",\n",
    "    \"fR10F\", \"(fD64 - fR10F)/fD64\", \"(fD64 - fR10F)/(fMax - fMin)\",\n",
    "    \"fR8F\",  \"(fD64 - fR8F) /fD64\", \"(fD64 - fR8F) /(fMax - fMin)\",\n",
    "    \"fR6F\",  \"(fD64 - fR6F) /fD64\", \"(fD64 - fR6F) /(fMax - fMin)\",\n",
    "    \"fR4F\",  \"(fD64 - fR4F) /fD64\", \"(fD64 - fR4F) /(fMax - fMin)\",\n",
    "    \"fR2F\",  \"(fD64 - fR2F) /fD64\", \"(fD64 - fR2F) /(fMax - fMin)\"\n",
    "]\n",
    "\n",
    "i_pad = 1\n",
    "\n",
    "for branch_name in branch_names:\n",
    "    canvas.cd(i_pad)\n",
    "    test_tree.Draw(branch_name)\n",
    "    i_pad += 1\n",
    "\n",
    "canvas.Draw()"
   ]
  },
  {
   "cell_type": "markdown",
   "metadata": {},
   "source": [
    "### Packed as 32 bit integer"
   ]
  },
  {
   "cell_type": "code",
   "execution_count": null,
   "metadata": {
    "hideCode": false,
    "hidePrompt": false,
    "scrolled": false
   },
   "outputs": [],
   "source": [
    "branch_names = [\n",
    "    \"fD64\", \"\", \"\",\n",
    "    \"fI16F\", \"(fD64 - fI16F)/fD64\", \"(fD64 - fI16F)/(fMax - fMin)\",\n",
    "    \"fI14F\", \"(fD64 - fI14F)/fD64\", \"(fD64 - fI14F)/(fMax - fMin)\",\n",
    "    \"fI12F\", \"(fD64 - fI12F)/fD64\", \"(fD64 - fI12F)/(fMax - fMin)\",\n",
    "    \"fI10F\", \"(fD64 - fI10F)/fD64\", \"(fD64 - fI10F)/(fMax - fMin)\",\n",
    "    \"fI8F\",  \"(fD64 - fI8F) /fD64\", \"(fD64 - fI8F) /(fMax - fMin)\",\n",
    "    \"fI6F\",  \"(fD64 - fI6F) /fD64\", \"(fD64 - fI6F) /(fMax - fMin)\",\n",
    "    \"fI4F\",  \"(fD64 - fI4F) /fD64\", \"(fD64 - fI4F) /(fMax - fMin)\",\n",
    "    \"fI2F\",  \"(fD64 - fI2F) /fD64\", \"(fD64 - fI2F) /(fMax - fMin)\"\n",
    "]\n",
    "\n",
    "i_pad = 1\n",
    "\n",
    "for branch_name in branch_names:\n",
    "    canvas.cd(i_pad)\n",
    "    test_tree.Draw(branch_name)\n",
    "    i_pad += 1\n",
    "\n",
    "canvas.Draw()"
   ]
  },
  {
   "cell_type": "markdown",
   "metadata": {},
   "source": [
    "### Bin width for values with truncated mantissa\n",
    "\n",
    "In order to avoid weird looking distributions one should choose the bin\n",
    "width to be larger than the absolute precision at the range maximum"
   ]
  },
  {
   "cell_type": "code",
   "execution_count": null,
   "metadata": {
    "hideCode": false,
    "hidePrompt": false,
    "scrolled": false
   },
   "outputs": [],
   "source": [
    "n_pads = 7\n",
    "\n",
    "canvas = ROOT.TCanvas(\"canvas_multi_bins\", \"canvas\", 800, 200*n_pads)\n",
    "canvas.Divide(1, n_pads)\n",
    "\n",
    "# Print out precision for fR8F at different values\n",
    "for value in range(10, 100, 10):\n",
    "    abs_precision = value * 2**-9\n",
    "    print('fR8F abs. precision @ {}: {}' .format(value, abs_precision))\n",
    "\n",
    "start_n_bins = 100\n",
    "\n",
    "for i_pad in range(1, n_pads+1):\n",
    "    canvas.cd(i_pad)\n",
    "    n_bins = start_n_bins if i_pad == 1 else start_n_bins * 2 \n",
    "    \n",
    "    # Print out the bin width\n",
    "    print('fR8F>>h{}({}, -100, 100) ==> bin width: {}'.format(i_pad, n_bins, 200/n_bins))\n",
    "    \n",
    "    test_tree.Draw( 'fR8F>>h{}({}, -100, 100)'.format(i_pad, n_bins) )\n",
    "    start_n_bins = n_bins\n",
    "    i_pad += 1\n",
    "\n",
    "canvas.Draw()"
   ]
  },
  {
   "cell_type": "markdown",
   "metadata": {},
   "source": [
    "# Summary and Conclusions\n",
    "\n",
    "We compared different packing modes of the `Float16_t` type in ROOT for uniformly and\n",
    "normally distributed variables. In the comparison plots one should focus on the bins\n",
    "labeled `fSh`, `fUSh`, `fI16F`, and `fR16F` and comapre relative precision and\n",
    "compression factors for the corresponding types.\n",
    "\n",
    "The following conclusions can be made:\n",
    "\n",
    " - `Float16_t` is packed into a 32-bit integer using `nbits` when //[min, max, nbits] format\n",
    " is specified. If `nbits` = 16 this packing does not offer any better precision than\n",
    " when `UShort_t` is used as an underlying type\n",
    "   \n",
    " - `Float16_t` is packed into a 16-bit mantissa + 8-bit exponent when the range is not specified,\n",
    " i.e. //[0, 0, nbits]. In this case the relative precision can be better than with `UShort_t`.\n",
    " Note that this is not the currently proposed change\n",
    " \n",
    " - In both modes `Float16_t` does not compress as good as `UShort_t` even with the maximum\n",
    " compression in ROOT5\n",
    "\n",
    " - The packing mode of `Float16_t` that closely matches `UShort_t` in compression and provides\n",
    " a better precision is defined as //[0, 0, 8]"
   ]
  }
 ],
 "metadata": {
  "hide_code_all_hidden": false,
  "kernelspec": {
   "display_name": "Python 3",
   "language": "python",
   "name": "python3"
  },
  "language_info": {
   "codemirror_mode": {
    "name": "ipython",
    "version": 3
   },
   "file_extension": ".py",
   "mimetype": "text/x-python",
   "name": "python",
   "nbconvert_exporter": "python",
   "pygments_lexer": "ipython3",
   "version": "3.6.1"
  },
  "toc": {
   "nav_menu": {},
   "number_sections": true,
   "sideBar": false,
   "skip_h1_title": false,
   "toc_cell": false,
   "toc_position": {
    "height": "650.083px",
    "left": "1846px",
    "right": "84px",
    "top": "89.85px",
    "width": "600px"
   },
   "toc_section_display": "block",
   "toc_window_display": true
  }
 },
 "nbformat": 4,
 "nbformat_minor": 2
}
