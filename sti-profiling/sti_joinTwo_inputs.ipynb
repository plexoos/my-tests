{
 "cells": [
  {
   "cell_type": "code",
   "execution_count": null,
   "metadata": {
    "collapsed": true
   },
   "outputs": [],
   "source": [
    "import ROOT\n",
    "\n",
    "in_file = ROOT.TFile(\"~/work/sti-profiling/inputs_joinTwo.root\")\n",
    "\n",
    "t = in_file.Get(\"t\")\n",
    "\n",
    "ROOT.enableJSVis()\n",
    "ROOT.gStyle.SetPadRightMargin(0.3)"
   ]
  },
  {
   "cell_type": "code",
   "execution_count": null,
   "metadata": {
    "collapsed": true
   },
   "outputs": [],
   "source": [
    "import plotly\n",
    "import plotly.figure_factory as ff\n",
    "import plotly.graph_objs as go\n",
    "\n",
    "plotly.offline.init_notebook_mode(connected=True)"
   ]
  },
  {
   "cell_type": "code",
   "execution_count": null,
   "metadata": {
    "collapsed": true
   },
   "outputs": [],
   "source": [
    "# Define some functions\n",
    "\n",
    "g_h_counter = 1\n",
    "\n",
    "# Fill 1D histogram from the tree\n",
    "def project1D(expression, n_bins, x_first, x_last, h_title = \"\", condition = \"\"):\n",
    "    \n",
    "    global g_h_counter\n",
    "    \n",
    "    h_name = 'h_{:03d}'.format(g_h_counter)\n",
    "    g_h_counter += 1\n",
    "    \n",
    "    if h_title == \"\":\n",
    "        h_title = expression\n",
    "    \n",
    "    h1D = ROOT.TH1D(h_name, h_title, n_bins, x_first, x_last)\n",
    "    \n",
    "    t.Project(h_name, expression, condition)\n",
    "    \n",
    "    return h1D\n",
    "\n",
    "\n",
    "\n",
    "def drawOnCanvases(hists):\n",
    "    \n",
    "    canvases = []\n",
    "    \n",
    "    for hist in hists:\n",
    "        canvas = ROOT.TCanvas(\"canvas_\" + hist.GetName(), \"ROOT Canvas\", 800, 600)\n",
    "        hist.Draw()\n",
    "        canvas.Draw()\n",
    "        canvases.append(canvas)\n",
    "        \n",
    "    return canvases\n",
    "\n",
    "\n",
    "\n",
    "def plotly1D(h1D):\n",
    "\n",
    "    y_values_ptr = h1D.GetArray()\n",
    "    y_values = []\n",
    "    x_values = []\n",
    "    \n",
    "    for i_bin in range( 1, h1D.GetNbinsX() + 1 ):\n",
    "        y_values.append( y_values_ptr[i_bin] )\n",
    "        x_values.append( h1D.GetBinCenter(i_bin) )\n",
    "\n",
    "    #return [ go.Bar(y = y_values) ]\n",
    "    plotly.offline.iplot( [ go.Bar(y = y_values) ] )"
   ]
  },
  {
   "cell_type": "code",
   "execution_count": null,
   "metadata": {
    "collapsed": true
   },
   "outputs": [],
   "source": [
    "hists = []\n",
    "\n",
    "# Create and plot input distributions\n",
    "hists.append( project1D(\"P1[0]\", 100, -20, 200, \"; x; events\", \"nP1 == 6\") )\n",
    "hists.append( project1D(\"P1[1]\", 100, -60, 60, \"; y; events\", \"nP1 == 6\") )\n",
    "hists.append( project1D(\"P1[2]\", 100, -250, 250, \"; z; events\", \"nP1 == 6\") )\n",
    "hists.append( project1D(\"P1[3]\", 100, -1.5, 1.5, \"; #phi; events\", \"nP1 == 6\") )\n",
    "hists.append( project1D(\"P1[4]\", 100, -100, 100, \"; q/Pt; events\", \"nP1 == 6\") )\n",
    "hists.append( project1D(\"P1[5]\", 100, -5, 5, \"; tan(#Lambda); events\", \"nP1 == 6\") )\n",
    "\n",
    "canvases = drawOnCanvases(hists)"
   ]
  },
  {
   "cell_type": "code",
   "execution_count": null,
   "metadata": {
    "collapsed": true
   },
   "outputs": [],
   "source": [
    "hists = []\n",
    "\n",
    "hists.append( project1D(\"fabs(P2[0] - PJ[0]) / sqrt(E2[1])\", 50, 0, 10) )\n",
    "hists.append( project1D(\"fabs(P2[1] - PJ[1]) / sqrt(E2[2])\", 50, 0, 10) )\n",
    "hists.append( project1D(\"fabs(P2[2] - PJ[2]) / sqrt(E2[5])\", 50, 0, 10) )\n",
    "hists.append( project1D(\"fabs(P2[3] - PJ[3]) / sqrt(E2[9])\", 50, 0, 10) )\n",
    "hists.append( project1D(\"fabs(P2[4] - PJ[4]) / sqrt(E2[14])\", 50, 0, 10) )\n",
    "hists.append( project1D(\"fabs(P2[5] - PJ[5]) / sqrt(E2[20])\", 50, 0, 10) )\n",
    "\n",
    "canvases = drawOnCanvases(hists)"
   ]
  },
  {
   "cell_type": "code",
   "execution_count": null,
   "metadata": {
    "collapsed": true
   },
   "outputs": [],
   "source": [
    "diff_P2_PJ_chi2 = ( \n",
    "  \" (P2[1] - PJ[1]) * (P2[1] - PJ[1]) / E2[2]  + \"\n",
    "  \" (P2[2] - PJ[2]) * (P2[2] - PJ[2]) / E2[5]  + \"\n",
    "  \" (P2[3] - PJ[3]) * (P2[3] - PJ[3]) / E2[9]  + \"\n",
    "  \" (P2[4] - PJ[4]) * (P2[4] - PJ[4]) / E2[14] + \"\n",
    "  \" (P2[5] - PJ[5]) * (P2[5] - PJ[5]) / E2[20]   \"\n",
    ")\n",
    "\n",
    "hists = []\n",
    "\n",
    "hist = project1D(diff_P2_PJ_chi2, 50, 0, 50, \"; #chi^2; \", \"nP1 == 6\")\n",
    "hist.Scale( 1./hist.Integral() )\n",
    "hist = hist.GetCumulative()\n",
    "hists.append( hist )\n",
    "\n",
    "canvases = drawOnCanvases(hists)\n"
   ]
  },
  {
   "cell_type": "code",
   "execution_count": null,
   "metadata": {
    "collapsed": true
   },
   "outputs": [],
   "source": [
    "#trace0 = [ go.Bar(y = values_list) ]\n",
    "\n",
    "#plotly.offline.iplot(trace0, filename = 'basic-line')"
   ]
  }
 ],
 "metadata": {
  "kernelspec": {
   "display_name": "Python 3",
   "language": "python",
   "name": "python3"
  },
  "language_info": {
   "codemirror_mode": {
    "name": "ipython",
    "version": 3
   },
   "file_extension": ".py",
   "mimetype": "text/x-python",
   "name": "python",
   "nbconvert_exporter": "python",
   "pygments_lexer": "ipython3",
   "version": "3.6.1"
  }
 },
 "nbformat": 4,
 "nbformat_minor": 2
}
